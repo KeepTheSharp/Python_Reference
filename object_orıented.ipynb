{
  "nbformat": 4,
  "nbformat_minor": 0,
  "metadata": {
    "colab": {
      "name": "object_orıented.ipynb",
      "provenance": [],
      "authorship_tag": "ABX9TyMePSCynYeYb4SEcRJE22V3",
      "include_colab_link": true
    },
    "kernelspec": {
      "name": "python3",
      "display_name": "Python 3"
    },
    "language_info": {
      "name": "python"
    }
  },
  "cells": [
    {
      "cell_type": "markdown",
      "metadata": {
        "id": "view-in-github",
        "colab_type": "text"
      },
      "source": [
        "<a href=\"https://colab.research.google.com/github/KeepTheSharp/Python_Reference/blob/main/object_or%C4%B1ented.ipynb\" target=\"_parent\"><img src=\"https://colab.research.google.com/assets/colab-badge.svg\" alt=\"Open In Colab\"/></a>"
      ]
    },
    {
      "cell_type": "code",
      "execution_count": null,
      "metadata": {
        "colab": {
          "base_uri": "https://localhost:8080/"
        },
        "id": "9UPBz0EkuHRe",
        "outputId": "00a138d0-20b6-4d99-8d30-0b001b58cf66"
      },
      "outputs": [
        {
          "output_type": "stream",
          "name": "stdout",
          "text": [
            "<__main__.Person object at 0x7fb692bc5b50>\n"
          ]
        }
      ],
      "source": [
        "class Person:\n",
        "    pass\n",
        "\n",
        "#create an instance\n",
        "p = Person()\n",
        "\n",
        "# p is an object of Person class\n",
        "print(p)    #  prints    <__main__.Person object at 0x2123923)"
      ]
    },
    {
      "cell_type": "code",
      "source": [
        "# self refers to itself\n",
        "\n",
        "class MyPerson:\n",
        "    def getName(self):        # self is a must here      it is like MyPerson.getAge()\n",
        "        print(\"Avi\")\n",
        "        return\n",
        "\n",
        "    def getAge(self):\n",
        "        print(\"16\")\n",
        "\n",
        "mp = MyPerson()\n",
        "\n",
        "mp.getName()        # prints Avi\n",
        "mp.getAge()         # prints 16"
      ],
      "metadata": {
        "colab": {
          "base_uri": "https://localhost:8080/"
        },
        "id": "rq1LYwUOv5rT",
        "outputId": "aef683ff-aa03-47ae-b5ec-7925c8eed8bb"
      },
      "execution_count": null,
      "outputs": [
        {
          "output_type": "stream",
          "name": "stdout",
          "text": [
            "Avi\n",
            "16\n"
          ]
        }
      ]
    },
    {
      "cell_type": "code",
      "source": [
        "# Class constructor __init__(self, parameters )\n",
        "# init of class\n",
        "class HeyPerson:\n",
        "    def __init__(self, name, age):    # this is like a constructor\n",
        "        self.name = name\n",
        "        self.age = age\n",
        "\n",
        "    def getName(self):\n",
        "        print(\"Your name is \" + self.name)\n",
        "\n",
        "    def getAge(self):\n",
        "        print(\"Your age is \" , self.age)     #   used \",\"    self.age is number\n",
        "\n",
        "\n",
        "hp = HeyPerson(\"Bob\",22)\n",
        "hp.getName()          # prints Your name is Bob\n",
        "hp.getAge()           # prints Your age is 22"
      ],
      "metadata": {
        "colab": {
          "base_uri": "https://localhost:8080/"
        },
        "id": "JQp__v7Av8hp",
        "outputId": "08847f6d-b953-4f0a-8606-ebb56a6f456d"
      },
      "execution_count": null,
      "outputs": [
        {
          "output_type": "stream",
          "name": "stdout",
          "text": [
            "Your name is Bob\n",
            "Your age is  22\n"
          ]
        }
      ]
    },
    {
      "cell_type": "code",
      "source": [
        "# ----------------------------------------------------------------------\n",
        "# Inheritance\n",
        "\n",
        "class Parent:\n",
        "    def __init_(self):\n",
        "        print(\"This is the parent class\")\n",
        "    def parentFunc(self):\n",
        "        print(\"This is the parent func\")\n",
        "\n",
        "p = Parent()\n",
        "p.parentFunc()    # prints   This is the parent func\n",
        "\n",
        "class Child(Parent):    # child class, inherits Parent class\n",
        "    def __init__(self):\n",
        "        print(\"This is the child class\")\n",
        "    def childFunc(self):\n",
        "        print(\"This is the child func\")\n",
        "\n",
        "c = Child()     # prints  This is the child class"
      ],
      "metadata": {
        "id": "QlVE9cvVv_SI"
      },
      "execution_count": null,
      "outputs": []
    },
    {
      "cell_type": "code",
      "source": [
        "#--\n",
        "class Parent2:\n",
        "    def __init__(self):\n",
        "        pass\n",
        "\n",
        "    def test(self):\n",
        "        print(\"parent\")\n",
        "\n",
        "class Child2(Parent2):\n",
        "    def __init__(self):\n",
        "        pass\n",
        "\n",
        "    def test(self):\n",
        "        print(\"child\")\n",
        "\n",
        "\n",
        "c = Child2()\n",
        "c.test()        # this will print child.  overrides the parent"
      ],
      "metadata": {
        "id": "Wrbh4GAawBDr"
      },
      "execution_count": null,
      "outputs": []
    }
  ]
}