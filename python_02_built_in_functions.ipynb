{
 "cells": [
  {
   "cell_type": "code",
   "execution_count": null,
   "metadata": {},
   "outputs": [],
   "source": [
    "# built in functions\n",
    "\n",
    "\n",
    "import string\n",
    "from tkinter.simpledialog import askstring\n",
    "\n",
    "\n",
    "print( abs(-5) )   # prints 5\n",
    "\n",
    "print( bool(0) )   # prints false\n",
    "print( bool(1) )   # prints true\n",
    "print( bool(100))  # prints true\n",
    "print( bool(None)) # prints false \n",
    "\n",
    "print(dir(\"Hello\"))\n",
    "\n",
    "\"\"\"\n",
    "Prints this:   - a list of functions that we can do with \"Hello\"\n",
    "['__add__', '__class__', '__contains__', '__delattr__', '__dir__', '__doc__', '__eq__', '__format__',\n",
    "'__ge__', '__getattribute__', '__getitem__', '__getnewargs__', '__gt__', '__hash__', '__init__',\n",
    "'__init_subclass__', '__iter__', '__le__', '__len__', '__lt__', '__mod__', '__mul__', '__ne__',\n",
    "'__new__', '__reduce__', '__reduce_ex__', '__repr__', '__rmod__', '__rmul__', '__setattr__',\n",
    "'__sizeof__', '__str__', '__subclasshook__', 'capitalize', 'casefold', 'center', 'count',\n",
    "'encode', 'endswith', 'expandtabs', 'find', 'format', 'format_map', 'index', 'isalnum',\n",
    "'isalpha', 'isascii', 'isdecimal', 'isdigit', 'isidentifier', 'islower', 'isnumeric',\n",
    "'isprintable', 'isspace', 'istitle', 'isupper', 'join', 'ljust', 'lower', 'lstrip',\n",
    "'maketrans', 'partition', 'replace', 'rfind', 'rindex', 'rjust', 'rpartition', 'rsplit',\n",
    "'rstrip', 'split', 'splitlines', 'startswith', 'strip', 'swapcase', 'title', 'translate',\n",
    "'upper', 'zfill']\n",
    "\"\"\""
   ]
  },
  {
   "cell_type": "code",
   "execution_count": null,
   "metadata": {},
   "outputs": [],
   "source": [
    "help(\"hello\".upper)\n",
    "\"\"\"\n",
    "Prints:\n",
    "Help on built-in function upper:\n",
    "\n",
    "upper() method of builtins.str instance\n",
    "    Return a copy of the string converted to uppercase.\n",
    "\"\"\""
   ]
  },
  {
   "cell_type": "code",
   "execution_count": null,
   "metadata": {},
   "outputs": [],
   "source": [
    "print( dir(5) )\n",
    "\"\"\"\n",
    "Prints this:  a list of things we can do with  number 5\n",
    "['__add__', '__class__', '__contains__', '__delattr__', '__dir__', '__doc__', '__eq__', '__format__',\n",
    "'__ge__', '__getattribute__', '__getitem__', '__getnewargs__', '__gt__', '__hash__', '__init__',\n",
    "'__init_subclass__', '__iter__', '__le__', '__len__', '__lt__', '__mod__', '__mul__', '__ne__',\n",
    "'__new__', '__reduce__', '__reduce_ex__', '__repr__', '__rmod__', '__rmul__', '__setattr__',\n",
    "'__sizeof__', '__str__', '__subclasshook__', 'capitalize', 'casefold', 'center', 'count', 'encode',\n",
    "'endswith', 'expandtabs', 'find', 'format', 'format_map', 'index', 'isalnum', 'isalpha', 'isascii',\n",
    "'isdecimal', 'isdigit', 'isidentifier', 'islower', 'isnumeric', 'isprintable',\n",
    "'isspace', 'istitle', 'isupper', 'join', 'ljust', 'lower', 'lstrip', 'maketrans', 'partition', \n",
    "replace', 'rfind', 'rindex', 'rjust', 'rpartition', 'rsplit', 'rstrip', 'split', 'splitlines',\n",
    "'startswith', 'strip', 'swapcase', 'title', 'translate', 'upper', 'zfill']\n",
    "['__abs__', '__add__', '__and__', '__bool__', '__ceil__', '__class__', '__delattr__', '__dir__',\n",
    "'__divmod__', '__doc__', '__eq__', '__float__', '__floor__', \n",
    "'__floordiv__', '__format__', '__ge__', '__getattribute__', '__getnewargs__', '__gt__', '__hash__',\n",
    "'__index__', '__init__', '__init_subclass__', '__int__', '__invert__', '__le__', '__lshift__',\n",
    "'__lt__', '__mod__', '__mul__', '__ne__', '__neg__', '__new__', '__or__', '__pos__', '__pow__',\n",
    "'__radd__', '__rand__', '__rdivmod__', '__reduce__', '__reduce_ex__', '__repr__', '__rfloordiv__',\n",
    "'__rlshift__', '__rmod__', '__rmul__', '__ror__', '__round__', '__rpow__', '__rrshift__',\n",
    "'__rshift__', '__rsub__', '__rtruediv__', '__rxor__', '__setattr__', '__sizeof__', '__str__',\n",
    "'__sub__', '__subclasshook__', '__truediv__', '__trunc__', '__xor__', 'as_integer_ratio',\n",
    "'bit_length', 'conjugate', 'denominator', 'from_bytes', 'imag', 'numerator', 'real', 'to_bytes']\n",
    "\n",
    "\n",
    "\"\"\""
   ]
  },
  {
   "cell_type": "code",
   "execution_count": 1,
   "metadata": {},
   "outputs": [
    {
     "name": "stdout",
     "output_type": "stream",
     "text": [
      "print(Hi)\n",
      "Hi\n",
      "Hi\n",
      "1\n",
      "1.0\n",
      "1\n"
     ]
    }
   ],
   "source": [
    "sent = \"print(Hi)\"\n",
    "print(sent)    # prints   print(Hi)\n",
    "sent = 'print(\"Hi\")'\n",
    "eval(sent)       # eval takes the parameter and runs as a python code. this prints  Hi.  For one line code only\n",
    "exec(sent)       # very similar to eval. can run multi-line code\n",
    "\n",
    "\n",
    "a = 1\n",
    "print( str(a) )      # Prints 1  but as a string\n",
    "print( float(a) )    # Prints 1.0\n",
    "print( int(a) )      # Prints 1 as an integer"
   ]
  }
 ],
 "metadata": {
  "kernelspec": {
   "display_name": "Python 3.10.4 64-bit",
   "language": "python",
   "name": "python3"
  },
  "language_info": {
   "codemirror_mode": {
    "name": "ipython",
    "version": 3
   },
   "file_extension": ".py",
   "mimetype": "text/x-python",
   "name": "python",
   "nbconvert_exporter": "python",
   "pygments_lexer": "ipython3",
   "version": "3.10.4"
  },
  "orig_nbformat": 4,
  "vscode": {
   "interpreter": {
    "hash": "4f946df053fbf2b937619d3c5458e7af74262f9a954d8797ba0b27400bcafe06"
   }
  }
 },
 "nbformat": 4,
 "nbformat_minor": 2
}
