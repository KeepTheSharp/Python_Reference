{
 "cells": [
  {
   "cell_type": "code",
   "execution_count": null,
   "metadata": {},
   "outputs": [],
   "source": [
    "def HelloWorld():\n",
    "    print(\"Hello World\")\n",
    "\n",
    "HelloWorld()   # this calls the function"
   ]
  },
  {
   "cell_type": "code",
   "execution_count": null,
   "metadata": {},
   "outputs": [],
   "source": [
    "# getting a parameter\n",
    "def Greeting(name):\n",
    "    print(\"Hi \" + name + \"!\")\n",
    "\n",
    "Greeting(\"Avi\")    # prints  Hi Avi!"
   ]
  },
  {
   "cell_type": "code",
   "execution_count": null,
   "metadata": {},
   "outputs": [],
   "source": [
    "# getting two parameters\n",
    "def Add(num1, num2):\n",
    "    print(num1 + num2)\n",
    "\n",
    "Add(10,12)         # prints 22"
   ]
  },
  {
   "cell_type": "code",
   "execution_count": null,
   "metadata": {},
   "outputs": [],
   "source": [
    "#returning a value\n",
    "def returnAdd(num1, num2):\n",
    "    return(num1 + num2)\n",
    "\n",
    "print( returnAdd( 11, 12 ))   # Prints 23"
   ]
  }
 ],
 "metadata": {
  "kernelspec": {
   "display_name": "Python 3.10.4 64-bit",
   "language": "python",
   "name": "python3"
  },
  "language_info": {
   "name": "python",
   "version": "3.10.4"
  },
  "orig_nbformat": 4,
  "vscode": {
   "interpreter": {
    "hash": "4f946df053fbf2b937619d3c5458e7af74262f9a954d8797ba0b27400bcafe06"
   }
  }
 },
 "nbformat": 4,
 "nbformat_minor": 2
}
