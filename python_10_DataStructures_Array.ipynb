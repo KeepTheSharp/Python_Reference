{
 "cells": [
  {
   "cell_type": "code",
   "execution_count": null,
   "metadata": {},
   "outputs": [],
   "source": [
    "\"\"\"\n",
    "Linear Data Structures\n",
    "\n",
    "Array − It is a sequential arrangement of data elements paired with the index of the data element.\n",
    "\n",
    "Linked List − Each data element contains a link to another element along with the data present in it.\n",
    "\n",
    "Stack − It is a data structure which follows only to specific order of operation. LIFO(last in First Out) or FILO(First in Last Out).\n",
    "\n",
    "Queue − It is similar to Stack but the order of operation is only FIFO(First In First Out).\n",
    "\n",
    "Matrix − It is two dimensional data structure in which the data element is referred by a pair of indices.\n",
    "\n",
    "\n",
    "\n",
    "Non-Linear Data Structures\n",
    "\n",
    "Binary Tree − It is a data structure where each data element can be connected to maximum two other data elements and it starts with a root node.\n",
    "\n",
    "Heap − It is a special case of Tree data structure where the data in the parent node is either strictly greater than/ equal to the child nodes or strictly less than it’s child nodes.\n",
    "\n",
    "Hash Table − It is a data structure which is made of arrays associated with each other using a hash function. It retrieves values using keys rather than index from a data element.\n",
    "\n",
    "Graph − It is an arrangement of vertices and nodes where some of the nodes are connected to each other through links.\n",
    "\n",
    "\n",
    "\n",
    "Python Specific Data Structures\n",
    "\n",
    "List − It is similar to array with the exception that the data elements can be of different data types. You can have both numeric and string data in a python list.\n",
    "\n",
    "Tuple − Tuples are similar to lists but they are immutable which means the values in a tuple cannot be modified they can only be read.\n",
    "\n",
    "Dictionary − The dictionary contains Key-value pairs as its data elements.\n",
    "\n",
    "\"\"\""
   ]
  },
  {
   "cell_type": "code",
   "execution_count": null,
   "metadata": {},
   "outputs": [],
   "source": [
    "# ARRAY\n",
    "\"\"\"\n",
    "b\tRepresents signed integer of size 1 byte\n",
    "B\tRepresents unsigned integer of size 1 byte\n",
    "c\tRepresents character of size 1 byte\n",
    "i\tRepresents signed integer of size 2 bytes\n",
    "I\tRepresents unsigned integer of size 2 bytes\n",
    "f\tRepresents floating point of size 4 bytes\n",
    "d\tRepresents floating point of size 8 bytes\n",
    "\"\"\"\n",
    "\n",
    "from array import *\n",
    "\n",
    "array1 = array('i', [10,20,30,40,50])\n",
    "\n",
    "for x in array1:\n",
    "   print(x)\n"
   ]
  },
  {
   "cell_type": "code",
   "execution_count": null,
   "metadata": {},
   "outputs": [],
   "source": [
    "# ARRAY\n",
    "# Accessing Array Element\n",
    "\n",
    "from array import *\n",
    "\n",
    "array1 = array('i', [10,20,30,40,50])\n",
    "\n",
    "print (array1[0])\n",
    "print (array1[2])"
   ]
  },
  {
   "cell_type": "code",
   "execution_count": null,
   "metadata": {},
   "outputs": [],
   "source": [
    "# ARRAY\n",
    "# Insert Array Element\n",
    "from array import *\n",
    "\n",
    "array1 = array('i', [10,20,30,40,50])\n",
    "array1.insert(1,60)  # inserts element at pos1   (it will be 2nd element)\n",
    "\n",
    "for x in array1:\n",
    "   print(x)"
   ]
  },
  {
   "cell_type": "code",
   "execution_count": null,
   "metadata": {},
   "outputs": [],
   "source": [
    "# ARRAY\n",
    "# Delete Array Element\n",
    "\n",
    "from array import *\n",
    "\n",
    "array1 = array('i', [10,20,30,40,50])\n",
    "array1.remove(40)\n",
    "\n",
    "for x in array1:\n",
    "   print(x)"
   ]
  },
  {
   "cell_type": "code",
   "execution_count": null,
   "metadata": {},
   "outputs": [],
   "source": [
    "# ARRAY\n",
    "# Search for an element\n",
    "\n",
    "from array import *\n",
    "array1 = array('i', [10,20,30,40,50])\n",
    "\n",
    "print (array1.index(40))  # Prints 3"
   ]
  },
  {
   "cell_type": "code",
   "execution_count": null,
   "metadata": {},
   "outputs": [],
   "source": [
    "# ARRAY\n",
    "# Update an element\n",
    "\n",
    "from array import *\n",
    "\n",
    "array1 = array('i', [10,20,30,40,50])\n",
    "array1[2] = 80\n",
    "\n",
    "for x in array1:\n",
    "   print(x)"
   ]
  }
 ],
 "metadata": {
  "kernelspec": {
   "display_name": "Python 3.10.4 64-bit",
   "language": "python",
   "name": "python3"
  },
  "language_info": {
   "name": "python",
   "version": "3.10.4"
  },
  "orig_nbformat": 4,
  "vscode": {
   "interpreter": {
    "hash": "4f946df053fbf2b937619d3c5458e7af74262f9a954d8797ba0b27400bcafe06"
   }
  }
 },
 "nbformat": 4,
 "nbformat_minor": 2
}
