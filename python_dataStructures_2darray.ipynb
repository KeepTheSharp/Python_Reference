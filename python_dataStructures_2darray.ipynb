{
  "nbformat": 4,
  "nbformat_minor": 0,
  "metadata": {
    "colab": {
      "name": "python_dataStructures_2darray.ipynb",
      "provenance": [],
      "authorship_tag": "ABX9TyONsaEGb5fx22O+LQR6rBn+",
      "include_colab_link": true
    },
    "kernelspec": {
      "name": "python3",
      "display_name": "Python 3"
    },
    "language_info": {
      "name": "python"
    }
  },
  "cells": [
    {
      "cell_type": "markdown",
      "metadata": {
        "id": "view-in-github",
        "colab_type": "text"
      },
      "source": [
        "<a href=\"https://colab.research.google.com/github/KeepTheSharp/Python_Reference/blob/main/python_dataStructures_2darray.ipynb\" target=\"_parent\"><img src=\"https://colab.research.google.com/assets/colab-badge.svg\" alt=\"Open In Colab\"/></a>"
      ]
    },
    {
      "cell_type": "code",
      "execution_count": null,
      "metadata": {
        "colab": {
          "base_uri": "https://localhost:8080/"
        },
        "id": "QFM_jLEcpy5I",
        "outputId": "e1d04209-aa0a-4b1b-da02-30613f2f0332"
      },
      "outputs": [
        {
          "output_type": "stream",
          "name": "stdout",
          "text": [
            "[11, 12, 5, 2]\n",
            "10\n"
          ]
        }
      ],
      "source": [
        "from array import *\n",
        "\n",
        "T = [[11, 12, 5, 2], [15, 6,10], [10, 8, 12, 5], [12,15,8,6]]\n",
        "\n",
        "print(T[0])\n",
        "\n",
        "print(T[1][2])   # Prints 10"
      ]
    },
    {
      "cell_type": "code",
      "source": [
        "from array import *\n",
        "\n",
        "T = [[11, 12, 5, 2], [15, 6,10], [10, 8, 12, 5], [12,15,8,6]]\n",
        "for r in T:\n",
        "   for c in r:\n",
        "      print(c,end = \" \")\n",
        "   print()\n",
        "                   # prints\n",
        "                   # 11 12 5 2\n",
        "                   # 15 6 10\n",
        "                   # 10 8 12 5\n",
        "                   # 12 15 8 6"
      ],
      "metadata": {
        "colab": {
          "base_uri": "https://localhost:8080/"
        },
        "id": "iea1eIzcqG9a",
        "outputId": "844e6add-e0a3-488d-dbfb-832d0ca7035b"
      },
      "execution_count": null,
      "outputs": [
        {
          "output_type": "stream",
          "name": "stdout",
          "text": [
            "11 12 5 2 \n",
            "15 6 10 \n",
            "10 8 12 5 \n",
            "12 15 8 6 \n"
          ]
        }
      ]
    },
    {
      "cell_type": "code",
      "source": [
        "# 2D Arrays\n",
        "# Inserting values\n",
        "\n",
        "from array import *\n",
        "T = [[11, 12, 5, 2], [15, 6,10], [10, 8, 12, 5], [12,15,8,6]]\n",
        "\n",
        "T.insert(2, [0,5,11,13,6])\n",
        "\n",
        "for r in T:\n",
        "   for c in r:\n",
        "      print(c,end = \" \")\n",
        "   print()"
      ],
      "metadata": {
        "colab": {
          "base_uri": "https://localhost:8080/"
        },
        "id": "8R1ZBiA-qk4D",
        "outputId": "de747a0a-935a-4ddd-e3a5-4da8f6bd73df"
      },
      "execution_count": null,
      "outputs": [
        {
          "output_type": "stream",
          "name": "stdout",
          "text": [
            "11 12 5 2 \n",
            "15 6 10 \n",
            "0 5 11 13 6 \n",
            "10 8 12 5 \n",
            "12 15 8 6 \n"
          ]
        }
      ]
    },
    {
      "cell_type": "code",
      "source": [
        "# 2D Arrays\n",
        "# Updating values\n",
        "\n",
        "from array import *\n",
        "\n",
        "T = [[11, 12, 5, 2], [15, 6,10], [10, 8, 12, 5], [12,15,8,6]]\n",
        "\n",
        "T[2] = [11,9]\n",
        "T[0][3] = 7\n",
        "for r in T:\n",
        "   for c in r:\n",
        "      print(c,end = \" \")\n",
        "   print()"
      ],
      "metadata": {
        "colab": {
          "base_uri": "https://localhost:8080/"
        },
        "id": "gvc1LbtKqtc3",
        "outputId": "297f57d1-40ef-46ee-f11b-6b8ed41629d9"
      },
      "execution_count": null,
      "outputs": [
        {
          "output_type": "stream",
          "name": "stdout",
          "text": [
            "11 12 5 7 \n",
            "15 6 10 \n",
            "11 9 \n",
            "12 15 8 6 \n"
          ]
        }
      ]
    },
    {
      "cell_type": "code",
      "source": [
        "# 2D arrays\n",
        "# Deleting values\n",
        "\n",
        "from array import *\n",
        "T = [[11, 12, 5, 2], [15, 6,10], [10, 8, 12, 5], [12,15,8,6]]\n",
        "\n",
        "del T[3]\n",
        "\n",
        "for r in T:\n",
        "   for c in r:\n",
        "      print(c,end = \" \")\n",
        "   print()\n",
        "   "
      ],
      "metadata": {
        "colab": {
          "base_uri": "https://localhost:8080/"
        },
        "id": "9snKYLX8q3Zl",
        "outputId": "e52203cb-b736-4aaf-ef75-9f0fee43410b"
      },
      "execution_count": null,
      "outputs": [
        {
          "output_type": "stream",
          "name": "stdout",
          "text": [
            "11 12 5 2 \n",
            "15 6 10 \n",
            "10 8 12 5 \n"
          ]
        }
      ]
    }
  ]
}