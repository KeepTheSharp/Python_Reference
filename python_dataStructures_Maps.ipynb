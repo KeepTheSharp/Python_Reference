{
  "nbformat": 4,
  "nbformat_minor": 0,
  "metadata": {
    "colab": {
      "name": "python_dataStructures_Maps.ipynb",
      "provenance": [],
      "authorship_tag": "ABX9TyPAztilyb0G8//d4lZchlL4",
      "include_colab_link": true
    },
    "kernelspec": {
      "name": "python3",
      "display_name": "Python 3"
    },
    "language_info": {
      "name": "python"
    }
  },
  "cells": [
    {
      "cell_type": "markdown",
      "metadata": {
        "id": "view-in-github",
        "colab_type": "text"
      },
      "source": [
        "<a href=\"https://colab.research.google.com/github/KeepTheSharp/Python_Reference/blob/main/python_dataStructures_Maps.ipynb\" target=\"_parent\"><img src=\"https://colab.research.google.com/assets/colab-badge.svg\" alt=\"Open In Colab\"/></a>"
      ]
    },
    {
      "cell_type": "code",
      "execution_count": null,
      "metadata": {
        "id": "mkz8Bk3swZT_"
      },
      "outputs": [],
      "source": [
        "\"\"\"\n",
        "Python Maps also called ChainMap is a type of data structure to manage multiple dictionaries together as one unit.\n",
        "The combined dictionary contains the key and value pairs in a specific sequence eliminating any duplicate keys.\n",
        "\n",
        "The best use of ChainMap is to search through multiple dictionaries at a time and get the\n",
        "proper key-value pair mapping. We also see that these ChainMaps behave as stack data structure.\n",
        "\"\"\""
      ]
    },
    {
      "cell_type": "code",
      "source": [
        "# MAPS\n",
        "# Creating a ChainMap\n",
        "# We create two dictionaries and club them using the ChainMap method from the collections library\n",
        "\n",
        "# !!!  If there are duplicate keys, then only the value from the first key is preserved. !!!\n",
        "\n",
        "import collections\n",
        "\n",
        "dict1 = {'day1': 'Mon', 'day2': 'Tue'}\n",
        "dict2 = {'day3': 'Wed', 'day1': 'Thu'}\n",
        "res = collections.ChainMap(dict1, dict2)\n",
        "\n",
        "# Creating a single dictionary\n",
        "print(res.maps,'\\n')\n",
        "\n",
        "print('Keys = {}'.format(list(res.keys())))\n",
        "print('Values = {}'.format(list(res.values())))\n",
        "print()\n",
        "\n",
        "# Print all the elements from the result\n",
        "print('elements:')\n",
        "for key, val in res.items():\n",
        "   print('{} = {}'.format(key, val))\n",
        "print()\n",
        "\n",
        "# Find a specific value in the result\n",
        "print('day3 in res: {}'.format(('day1' in res)))\n",
        "print('day4 in res: {}'.format(('day4' in res)))\n",
        "\n",
        "\"\"\" Prints:\n",
        "[{'day1': 'Mon', 'day2': 'Tue'}, {'day3': 'Wed', 'day1': 'Thu'}] \n",
        "\n",
        "Keys = ['day3', 'day1', 'day2']\n",
        "Values = ['Wed', 'Mon', 'Tue']\n",
        "\n",
        "elements:\n",
        "day3 = Wed\n",
        "day1 = Mon\n",
        "day2 = Tue\n",
        "\n",
        "day3 in res: True\n",
        "day4 in res: False\n",
        "\"\"\""
      ],
      "metadata": {
        "colab": {
          "base_uri": "https://localhost:8080/"
        },
        "id": "mKCimsu-wmgs",
        "outputId": "19ac3c5d-5d0a-47f5-866b-96c19f0c611b"
      },
      "execution_count": null,
      "outputs": [
        {
          "output_type": "stream",
          "name": "stdout",
          "text": [
            "[{'day1': 'Mon', 'day2': 'Tue'}, {'day3': 'Wed', 'day1': 'Thu'}] \n",
            "\n",
            "Keys = ['day3', 'day1', 'day2']\n",
            "Values = ['Wed', 'Mon', 'Tue']\n",
            "\n",
            "elements:\n",
            "day3 = Wed\n",
            "day1 = Mon\n",
            "day2 = Tue\n",
            "\n",
            "day3 in res: True\n",
            "day4 in res: False\n"
          ]
        }
      ]
    },
    {
      "cell_type": "code",
      "source": [
        "# Maps\n",
        "# Map Reordering\n",
        "# If we change the order the dictionaries while clubbing them in the above example we see that\n",
        "# the position of the elements get interchanged as if they are in a continuous chain.\n",
        "# This again shows the behavior of Maps as \"\"\"stacks\"\"\".\n",
        "\n",
        "import collections\n",
        "\n",
        "dict1 = {'day1': 'Mon', 'day2': 'Tue'}\n",
        "dict2 = {'day3': 'Wed', 'day4': 'Thu'}\n",
        "\n",
        "res1 = collections.ChainMap(dict1, dict2)\n",
        "print(res1.maps,'\\n')\n",
        "\n",
        "res2 = collections.ChainMap(dict2, dict1)\n",
        "print(res2.maps,'\\n')\n",
        "# Prints\n",
        "# [{'day1': 'Mon', 'day2': 'Tue'}, {'day3': 'Wed', 'day4': 'Thu'}]\n",
        "# [{'day3': 'Wed', 'day4': 'Thu'}, {'day1': 'Mon', 'day2': 'Tue'}] "
      ],
      "metadata": {
        "colab": {
          "base_uri": "https://localhost:8080/"
        },
        "id": "SxOKaZKAxqa3",
        "outputId": "7ac96c57-b355-4d0d-994f-1ad9a999340d"
      },
      "execution_count": null,
      "outputs": [
        {
          "output_type": "stream",
          "name": "stdout",
          "text": [
            "[{'day1': 'Mon', 'day2': 'Tue'}, {'day3': 'Wed', 'day4': 'Thu'}] \n",
            "\n",
            "[{'day3': 'Wed', 'day4': 'Thu'}, {'day1': 'Mon', 'day2': 'Tue'}] \n",
            "\n"
          ]
        }
      ]
    },
    {
      "cell_type": "code",
      "source": [
        "# Maps\n",
        "# Updating Map\n",
        "import collections\n",
        "\n",
        "dict1 = {'day1': 'Mon', 'day2': 'Tue'}\n",
        "dict2 = {'day3': 'Wed', 'day4': 'Thu'}\n",
        "\n",
        "res = collections.ChainMap(dict1, dict2)\n",
        "print(\"Before \", res.maps,'\\n')\n",
        "\n",
        "dict2['day4'] = 'Fri'\n",
        "print(\"After  \", res.maps,'\\n')\n",
        "# Prints\n",
        "# Before  [{'day1': 'Mon', 'day2': 'Tue'}, {'day3': 'Wed', 'day4': 'Thu'}] \n",
        "# After   [{'day1': 'Mon', 'day2': 'Tue'}, {'day3': 'Wed', 'day4': 'Fri'}] "
      ],
      "metadata": {
        "colab": {
          "base_uri": "https://localhost:8080/"
        },
        "id": "869O1BeEyM7s",
        "outputId": "5c11e4f3-30d6-47db-a0f0-fd214db764f9"
      },
      "execution_count": null,
      "outputs": [
        {
          "output_type": "stream",
          "name": "stdout",
          "text": [
            "Before  [{'day1': 'Mon', 'day2': 'Tue'}, {'day3': 'Wed', 'day4': 'Thu'}] \n",
            "\n",
            "After   [{'day1': 'Mon', 'day2': 'Tue'}, {'day3': 'Wed', 'day4': 'Fri'}] \n",
            "\n"
          ]
        }
      ]
    }
  ]
}