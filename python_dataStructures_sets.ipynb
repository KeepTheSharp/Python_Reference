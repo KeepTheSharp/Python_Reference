{
  "nbformat": 4,
  "nbformat_minor": 0,
  "metadata": {
    "colab": {
      "name": "python_dataStructures_sets.ipynb",
      "provenance": [],
      "authorship_tag": "ABX9TyOZmv0omfsHO9NxCmwz15U4",
      "include_colab_link": true
    },
    "kernelspec": {
      "name": "python3",
      "display_name": "Python 3"
    },
    "language_info": {
      "name": "python"
    }
  },
  "cells": [
    {
      "cell_type": "markdown",
      "metadata": {
        "id": "view-in-github",
        "colab_type": "text"
      },
      "source": [
        "<a href=\"https://colab.research.google.com/github/KeepTheSharp/Python_Reference/blob/main/python_dataStructures_sets.ipynb\" target=\"_parent\"><img src=\"https://colab.research.google.com/assets/colab-badge.svg\" alt=\"Open In Colab\"/></a>"
      ]
    },
    {
      "cell_type": "code",
      "execution_count": null,
      "metadata": {
        "id": "F6bhNayXu7k6"
      },
      "outputs": [],
      "source": [
        "\"\"\"\n",
        "Mathematically a set is a collection of items not in any particular order. A Python set is similar to this mathematical definition with below additional conditions.\n",
        "\n",
        "The elements in the set cannot be duplicates.\n",
        "\n",
        "The elements in the set are immutable(cannot be modified) but the set as a whole is mutable.\n",
        "\n",
        "!!!!There is no index attached to any element in a python set. So they do not support any indexing or slicing operation.!!!\n",
        "\"\"\"\n"
      ]
    },
    {
      "cell_type": "code",
      "source": [
        "Days=set([\"Mon\",\"Tue\",\"Wed\",\"Thu\",\"Fri\",\"Sat\",\"Sun\"])\n",
        "Months={\"Jan\",\"Feb\",\"Mar\"}\n",
        "Dates={21,22,17}\n",
        "print(Days)\n",
        "print(Months)\n",
        "print(Dates)\n",
        "\n",
        "# Prints \n",
        "\"\"\"\n",
        "set(['Wed', 'Sun', 'Fri', 'Tue', 'Mon', 'Thu', 'Sat'])\n",
        "set(['Jan', 'Mar', 'Feb'])\n",
        "set([17, 21, 22])\n",
        "\"\"\""
      ],
      "metadata": {
        "colab": {
          "base_uri": "https://localhost:8080/"
        },
        "id": "c4mEk4JsvE7C",
        "outputId": "c78bc89b-875b-482b-e7e3-e5169a717ebd"
      },
      "execution_count": null,
      "outputs": [
        {
          "output_type": "stream",
          "name": "stdout",
          "text": [
            "{'Tue', 'Wed', 'Sun', 'Sat', 'Thu', 'Mon', 'Fri'}\n",
            "{'Feb', 'Jan', 'Mar'}\n",
            "{17, 21, 22}\n"
          ]
        }
      ]
    },
    {
      "cell_type": "code",
      "source": [
        "# SETS\n",
        "# Accessing a value - We cannot access individual values in a set. \n",
        "Days=set([\"Mon\",\"Tue\",\"Wed\",\"Thu\",\"Fri\",\"Sat\",\"Sun\"])\n",
        " \n",
        "for d in Days:\n",
        "   print(d)"
      ],
      "metadata": {
        "colab": {
          "base_uri": "https://localhost:8080/"
        },
        "id": "o2OEeVA1vMa3",
        "outputId": "9fb80962-6961-4702-d2c9-c56f8bc5f94f"
      },
      "execution_count": null,
      "outputs": [
        {
          "output_type": "stream",
          "name": "stdout",
          "text": [
            "Tue\n",
            "Wed\n",
            "Sun\n",
            "Sat\n",
            "Thu\n",
            "Mon\n",
            "Fri\n"
          ]
        }
      ]
    },
    {
      "cell_type": "code",
      "source": [
        "# SETS\n",
        "# Adding an item\n",
        "Days=set([\"Mon\",\"Tue\",\"Wed\",\"Thu\",\"Fri\",\"Sat\"])\n",
        " \n",
        "Days.add(\"Sun\")\n",
        "print(Days)\n"
      ],
      "metadata": {
        "id": "ZiitEcm8vMc2"
      },
      "execution_count": null,
      "outputs": []
    },
    {
      "cell_type": "code",
      "source": [
        "# SETS\n",
        "# Deleting an item.\n",
        "Days=set([\"Mon\",\"Tue\",\"Wed\",\"Thu\",\"Fri\",\"Sat\"])\n",
        " \n",
        "Days.discard(\"Sun\")\n",
        "print(Days)\n",
        "# prints:\n",
        "# {'Tue', 'Wed', 'Sat', 'Thu', 'Mon', 'Fri'}"
      ],
      "metadata": {
        "colab": {
          "base_uri": "https://localhost:8080/"
        },
        "id": "x-qKu6bqvqrD",
        "outputId": "3b3844bb-2550-48c3-e983-972bf42797c0"
      },
      "execution_count": null,
      "outputs": [
        {
          "output_type": "stream",
          "name": "stdout",
          "text": [
            "{'Tue', 'Wed', 'Sat', 'Thu', 'Mon', 'Fri'}\n"
          ]
        }
      ]
    },
    {
      "cell_type": "code",
      "source": [
        "# SETS\n",
        "# Union of sets\n",
        "DaysA = set([\"Mon\",\"Tue\",\"Wed\"])\n",
        "DaysB = set([\"Wed\",\"Thu\",\"Fri\",\"Sat\",\"Sun\"])\n",
        "AllDays = DaysA|DaysB\n",
        "print(AllDays)\n",
        "# prints:\n",
        "# {'Tue', 'Wed', 'Sun', 'Sat', 'Thu', 'Mon', 'Fri'}"
      ],
      "metadata": {
        "colab": {
          "base_uri": "https://localhost:8080/"
        },
        "id": "lU54TRoLv3lH",
        "outputId": "e16802e8-cbbb-48a2-bede-93c31901bde9"
      },
      "execution_count": null,
      "outputs": [
        {
          "output_type": "stream",
          "name": "stdout",
          "text": [
            "{'Tue', 'Wed', 'Sun', 'Sat', 'Thu', 'Mon', 'Fri'}\n"
          ]
        }
      ]
    },
    {
      "cell_type": "code",
      "source": [
        "# SETS\n",
        "# Intersection of sets\n",
        "DaysA = set([\"Mon\",\"Tue\",\"Wed\"])\n",
        "DaysB = set([\"Wed\",\"Thu\",\"Fri\",\"Sat\",\"Sun\"])\n",
        "AllDays = DaysA & DaysB\n",
        "print(AllDays)\n",
        "# prints\n",
        "# {'Wed'}"
      ],
      "metadata": {
        "colab": {
          "base_uri": "https://localhost:8080/"
        },
        "id": "hlHD_UMzwB3h",
        "outputId": "29b39205-fc61-4858-cabf-6f8538218f8f"
      },
      "execution_count": null,
      "outputs": [
        {
          "output_type": "stream",
          "name": "stdout",
          "text": [
            "{'Wed'}\n"
          ]
        }
      ]
    },
    {
      "cell_type": "code",
      "source": [
        "# SETS\n",
        "# Difference of Sets\n",
        "DaysA = set([\"Mon\",\"Tue\",\"Wed\"])\n",
        "DaysB = set([\"Wed\",\"Thu\",\"Fri\",\"Sat\",\"Sun\"])\n",
        "AllDays = DaysA - DaysB\n",
        "print(AllDays)\n",
        "# prints\n",
        "# set(['Mon', 'Tue'])"
      ],
      "metadata": {
        "colab": {
          "base_uri": "https://localhost:8080/"
        },
        "id": "2IKesfW8wHnK",
        "outputId": "45a0fa18-595a-46e1-f359-ec92796f7cde"
      },
      "execution_count": null,
      "outputs": [
        {
          "output_type": "stream",
          "name": "stdout",
          "text": [
            "{'Mon', 'Tue'}\n"
          ]
        }
      ]
    },
    {
      "cell_type": "code",
      "source": [
        "# SETS\n",
        "# Compare sets\n",
        "DaysA = set([\"Mon\",\"Tue\",\"Wed\"])\n",
        "DaysB = set([\"Mon\",\"Tue\",\"Wed\",\"Thu\",\"Fri\",\"Sat\",\"Sun\"])\n",
        "SubsetRes = DaysA <= DaysB\n",
        "SupersetRes = DaysB >= DaysA\n",
        "print(SubsetRes)\n",
        "print(SupersetRes)\n",
        "# Prints\n",
        "# True\n",
        "# True"
      ],
      "metadata": {
        "colab": {
          "base_uri": "https://localhost:8080/"
        },
        "id": "97iz6Ub9wOuu",
        "outputId": "9b0e3624-2f63-448e-e679-1c7208feee24"
      },
      "execution_count": null,
      "outputs": [
        {
          "output_type": "stream",
          "name": "stdout",
          "text": [
            "True\n",
            "True\n"
          ]
        }
      ]
    }
  ]
}